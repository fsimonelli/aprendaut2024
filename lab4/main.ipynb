{
 "cells": [
  {
   "cell_type": "code",
   "execution_count": 1,
   "metadata": {},
   "outputs": [],
   "source": [
    "from data.load_data import load_and_split_data\n",
    "from models.model1_logistic_regression import train_logistic_regression\n",
    "from models.model2_simple_nn import SimpleLinearNN\n",
    "from models.model3_sigmoid_nn import SigmoidNN\n",
    "from models.model4_feedforward_nn import FeedForwardNN\n",
    "from utils.train import train_model\n",
    "from utils.evaluate import evaluate_model\n",
    "from utils.plot_utils import plot_metrics\n",
    "from sklearn import preprocessing\n",
    "import pandas as pd\n",
    "import torch\n",
    "from torch.utils.data import TensorDataset\n",
    "\n",
    "data_path = 'data/dataset.csv'\n",
    "target = 'cid'\n",
    "train_data, val_data, test_data = load_and_split_data(data_path)\n",
    "\n",
    "X_train, y_train = train_data.drop(columns=[target]), train_data[target]\n",
    "X_val, y_val = val_data.drop(columns=[target]), val_data[target]\n",
    "X_test, y_test = test_data.drop(columns=[target]), test_data[target]\n",
    "\n",
    "input_size = X_train.shape[1]"
   ]
  },
  {
   "cell_type": "markdown",
   "metadata": {},
   "source": [
    "Modelo 1"
   ]
  },
  {
   "cell_type": "code",
   "execution_count": 2,
   "metadata": {},
   "outputs": [
    {
     "name": "stdout",
     "output_type": "stream",
     "text": [
      "Accuracy del Modelo 1 en el conjunto de validación: 0.8140\n"
     ]
    }
   ],
   "source": [
    "scaler = preprocessing.StandardScaler().fit(X_train)\n",
    "X_scaled = scaler.transform(X_train)\n",
    "X_validation_scaled = scaler.transform(X_val)\n",
    "\n",
    "model1, accuracy_val = train_logistic_regression(X_scaled, y_train, X_validation_scaled, y_val)\n",
    "\n",
    "print(f\"Accuracy del Modelo 1 en el conjunto de validación: {accuracy_val:.4f}\")\n"
   ]
  },
  {
   "cell_type": "markdown",
   "metadata": {},
   "source": [
    "Modelo 2"
   ]
  },
  {
   "cell_type": "code",
   "execution_count": 3,
   "metadata": {},
   "outputs": [],
   "source": [
    "class_0 = train_data[train_data[target] == 0]\n",
    "class_1 = train_data[train_data[target] == 1]\n",
    "\n",
    "class_1_oversampled = class_1.sample(len(class_0), replace=True, random_state=0)\n",
    "train_df_oversampled = pd.concat([class_0, class_1_oversampled])\n",
    "\n",
    "X_train_oversampled = train_df_oversampled.drop(columns=[target]).values\n",
    "y_train_oversampled = train_df_oversampled[target].values"
   ]
  },
  {
   "cell_type": "code",
   "execution_count": 4,
   "metadata": {},
   "outputs": [
    {
     "ename": "SyntaxError",
     "evalue": "invalid syntax. Perhaps you forgot a comma? (2240933131.py, line 18)",
     "output_type": "error",
     "traceback": [
      "\u001b[0;36m  Cell \u001b[0;32mIn[4], line 18\u001b[0;36m\u001b[0m\n\u001b[0;31m    criterion='CrossEntropyLoss'\u001b[0m\n\u001b[0m              ^\u001b[0m\n\u001b[0;31mSyntaxError\u001b[0m\u001b[0;31m:\u001b[0m invalid syntax. Perhaps you forgot a comma?\n"
     ]
    }
   ],
   "source": [
    "model2 = SimpleLinearNN(input_size=input_size)\n",
    "epochs = 100\n",
    "learning_rate = 0.01\n",
    "\n",
    "X_train_tensor = torch.FloatTensor(X_train.values)\n",
    "y_train_tensor = torch.LongTensor(y_train.values)\n",
    "X_val_tensor = torch.FloatTensor(X_val.values)\n",
    "y_val_tensor = torch.LongTensor(y_val.values)\n",
    "\n",
    "train_losses, val_losses, train_accuracies, val_accuracies = train_model(\n",
    "    model=model2,\n",
    "    X_train=X_train_tensor,\n",
    "    y_train=y_train_tensor,\n",
    "    X_val=X_val_tensor,\n",
    "    y_val=y_val_tensor,\n",
    "    epochs=epochs,\n",
    "    lr=learning_rate,\n",
    "    criterion='CrossEntropyLoss',\n",
    "    modelNumber=2\n",
    ")\n",
    "\n",
    "epochs_list = range(1, len(train_losses) + 1)\n",
    "print(train_accuracies)\n",
    "plot_metrics(epochs_list, train_losses, val_losses, train_accuracies, val_accuracies)"
   ]
  },
  {
   "cell_type": "markdown",
   "metadata": {},
   "source": [
    "Modelo 3"
   ]
  },
  {
   "cell_type": "code",
   "execution_count": null,
   "metadata": {},
   "outputs": [],
   "source": [
    "model3 = SigmoidNN(input_size=input_size)\n",
    "X_train_tensor = torch.FloatTensor(X_train.values)\n",
    "y_train_tensor = torch.FloatTensor(y_train.values).unsqueeze(1)\n",
    "X_val_tensor = torch.FloatTensor(X_val.values)\n",
    "y_val_tensor = torch.FloatTensor(y_val.values).unsqueeze(1)\n",
    "\n",
    "train_losses, val_losses, train_accuracies, val_accuracies = train_model(\n",
    "    model=model3,\n",
    "    X_train=X_train_tensor,\n",
    "    y_train=y_train_tensor,\n",
    "    X_val=X_val_tensor,\n",
    "    y_val=y_val_tensor,\n",
    "    epochs=epochs,\n",
    "    lr=learning_rate,\n",
    "    criterion='BCELoss',\n",
    "    modelNumber=3\n",
    ")\n",
    "epochs_list = range(1, len(train_losses) + 1)\n",
    "print(train_accuracies)\n",
    "print(val_accuracies)\n",
    "plot_metrics(epochs_list, train_losses, val_losses, train_accuracies, val_accuracies)"
   ]
  },
  {
   "cell_type": "markdown",
   "metadata": {},
   "source": [
    "Modelo 4"
   ]
  },
  {
   "cell_type": "code",
   "execution_count": null,
   "metadata": {},
   "outputs": [],
   "source": [
    "X_train_tensor = torch.FloatTensor(X_train.values)  # Características de entrenamiento\n",
    "y_train_tensor = torch.FloatTensor(y_train.values).unsqueeze(1)  # Etiquetas de entrenamiento (convertidas a 2D)\n",
    "X_val_tensor = torch.FloatTensor(X_val.values)      # Características de validación\n",
    "y_val_tensor = torch.FloatTensor(y_val.values).unsqueeze(1)\n",
    "\n",
    "model4 = FeedForwardNN(input_size=input_size)\n",
    "train_losses, val_losses, train_accuracies, val_accuracies = train_model(\n",
    "    model=model4,\n",
    "    X_train=X_train_tensor,\n",
    "    y_train=y_train_tensor,\n",
    "    X_val=X_val_tensor,\n",
    "    y_val=y_val_tensor,\n",
    "    epochs=epochs,\n",
    "    lr=learning_rate,\n",
    "    criterion='BCELoss',\n",
    "    modelNumber=4\n",
    ")\n",
    "\n",
    "plot_metrics(epochs_list, train_losses, val_losses, train_accuracies, val_accuracies)"
   ]
  },
  {
   "cell_type": "code",
   "execution_count": null,
   "metadata": {},
   "outputs": [],
   "source": [
    "results_list = []\n",
    "models = [model1, model2, model3, model4]\n",
    "model_names = ['Model 1', 'Model 2', 'Model 3', 'Model 4']\n",
    "\n",
    "for model, name in zip(models, model_names):\n",
    "    accuracy, precision, recall, f1 = evaluate_model(model, X_test, y_test)\n",
    "    \n",
    "    results_list.append({\n",
    "        'Model': name,\n",
    "        'Accuracy': accuracy,\n",
    "        'Precision': precision,\n",
    "        'Recall': recall,\n",
    "        'F1': f1\n",
    "    })\n",
    "\n",
    "results_df = pd.DataFrame(results_list)\n",
    "\n",
    "print(results_df)\n"
   ]
  }
 ],
 "metadata": {
  "kernelspec": {
   "display_name": "Python 3",
   "language": "python",
   "name": "python3"
  },
  "language_info": {
   "codemirror_mode": {
    "name": "ipython",
    "version": 3
   },
   "file_extension": ".py",
   "mimetype": "text/x-python",
   "name": "python",
   "nbconvert_exporter": "python",
   "pygments_lexer": "ipython3",
   "version": "3.10.12"
  }
 },
 "nbformat": 4,
 "nbformat_minor": 2
}
