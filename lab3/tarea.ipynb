{
 "cells": [
  {
   "cell_type": "markdown",
   "id": "0d13bbe5-80d1-4879-bc47-d8e366f38456",
   "metadata": {},
   "source": [
    "# **Laboratorio 3 - Informe**"
   ]
  },
  {
   "cell_type": "markdown",
   "id": "dfa303e2",
   "metadata": {},
   "source": [
    "### Grupo 4:\n",
    "     - S. Calvo C.I 5.711.417-7     \n",
    "     - X. Iribarnegaray C.I 5.253.705-9\n",
    "     - J. Simonelli C.I 5.405.358-4"
   ]
  },
  {
   "cell_type": "markdown",
   "id": "d65e01e0",
   "metadata": {},
   "source": [
    "## 1. Objetivos\n",
    "El objetivo de este laboratorio es:\n",
    "- Implementar funciones de AgenteRL para el ambiente open-ai gymnassium\n",
    "- Analizar los resultados obtenidos luego de ejecuciones del agente entrenado\n",
    "- Fundamentar la elección de los hiperparámetros utilizados"
   ]
  },
  {
   "cell_type": "markdown",
   "id": "82127016-b75d-4621-a53e-8b2bb63cd3f8",
   "metadata": {},
   "source": [
    "### **1. Bibliotecas**"
   ]
  },
  {
   "cell_type": "code",
   "execution_count": 1,
   "id": "a6e0a19d-696b-440e-84eb-fe2b8761d955",
   "metadata": {},
   "outputs": [
    {
     "name": "stdout",
     "output_type": "stream",
     "text": [
      "Defaulting to user installation because normal site-packages is not writeable\n",
      "Requirement already satisfied: cmake in /home/francisco/.local/lib/python3.10/site-packages (3.30.3)\n",
      "Requirement already satisfied: gymnasium in /home/francisco/.local/lib/python3.10/site-packages (0.29.1)\n",
      "Requirement already satisfied: scipy in /home/francisco/.local/lib/python3.10/site-packages (1.14.1)\n",
      "Requirement already satisfied: numpy in /home/francisco/.local/lib/python3.10/site-packages (2.1.0)\n",
      "Requirement already satisfied: pygame==2.6.0 in /home/francisco/.local/lib/python3.10/site-packages (2.6.0)\n",
      "Requirement already satisfied: swig in /home/francisco/.local/lib/python3.10/site-packages (4.2.1)\n",
      "Requirement already satisfied: typing-extensions>=4.3.0 in /home/francisco/.local/lib/python3.10/site-packages (from gymnasium) (4.12.2)\n",
      "Requirement already satisfied: cloudpickle>=1.2.0 in /home/francisco/.local/lib/python3.10/site-packages (from gymnasium) (3.0.0)\n",
      "Requirement already satisfied: farama-notifications>=0.0.1 in /home/francisco/.local/lib/python3.10/site-packages (from gymnasium) (0.0.4)\n",
      "Requirement already satisfied: box2d-py==2.3.5 in /home/francisco/.local/lib/python3.10/site-packages (from gymnasium) (2.3.5)\n"
     ]
    }
   ],
   "source": [
    "!pip3 install cmake gymnasium scipy numpy gymnasium[box2d] pygame==2.6.0 swig\n",
    "import sys\n",
    "# Tal vez tengan que ejecutar lo siguiente en sus máquinas (ubuntu 20.04)\n",
    "# sudo apt-get remove swig\n",
    "# sudo apt-get install swig3.0\n",
    "# sudo ln -s /usr/bin/swig3.0 /usr/bin/swig\n",
    "# En windows tambien puede ser necesario MSVC++\n",
    "import gymnasium as gym\n",
    "import numpy as np\n",
    "import matplotlib.pyplot as plt\n",
    "from collections import deque\n",
    "import random\n",
    "import json\n"
   ]
  },
  {
   "cell_type": "markdown",
   "id": "d721a629-7f3f-4a70-83c0-e12f43b0f285",
   "metadata": {},
   "source": [
    "## **3. Discretizando el estado**"
   ]
  },
  {
   "cell_type": "markdown",
   "id": "37d35189-3a15-4ceb-b978-38226518092a",
   "metadata": {},
   "source": [
    "El estado consiste de posiciones y velocidades en (x,y,theta) y en información de contacto de los pies con la superficie.\n",
    "\n",
    "Como varios de estos son continuos, tenemos que discretizarlos para aplicar nuestro algoritmo de aprendizaje por refuerzo tabular."
   ]
  },
  {
   "cell_type": "code",
   "execution_count": 2,
   "id": "b7b6bed3-12ba-4d92-8b09-3d3f8429217f",
   "metadata": {},
   "outputs": [],
   "source": [
    "# Cuántos bins queremos por dimensión\n",
    "# Pueden considerar variar este parámetro\n",
    "bins_per_dim = 20\n",
    "\n",
    "# Estado:\n",
    "# (x, y, x_vel, y_vel, theta, theta_vel, pie_izq_en_contacto, pie_derecho_en_contacto)\n",
    "NUM_BINS = [bins_per_dim, bins_per_dim, bins_per_dim, bins_per_dim, bins_per_dim, bins_per_dim, 2, 2]\n",
    "\n",
    "env = gym.make('LunarLander-v2')\n",
    "env.reset()\n",
    "\n",
    "# Tomamos los rangos del env\n",
    "OBS_SPACE_HIGH = env.observation_space.high\n",
    "OBS_SPACE_LOW = env.observation_space.low\n",
    "OBS_SPACE_LOW[1] = 0 # Para la coordenada y (altura), no podemos ir más abajo que la zona dea aterrizae (que está en el 0, 0)\n",
    "\n",
    "# Los bins para cada dimensión\n",
    "bins = [\n",
    "    np.linspace(OBS_SPACE_LOW[i], OBS_SPACE_HIGH[i], NUM_BINS[i] - 1)\n",
    "    for i in range(len(NUM_BINS) - 2) # last two are binary\n",
    "]\n",
    "# Se recomienda observar los bins para entender su estructura\n",
    "# print (\"Bins: \", bins)\n",
    "\n",
    "def discretize_state(state, bins):\n",
    "    \"\"\"Discretize the continuous state into a tuple of discrete indices.\"\"\"\n",
    "    state_disc = list()\n",
    "    for i in range(len(state)):\n",
    "        if i >= len(bins):  # For binary features (leg contacts)\n",
    "            state_disc.append(int(state[i]))\n",
    "        else:\n",
    "            state_disc.append(\n",
    "                np.digitize(state[i], bins[i])\n",
    "            )\n",
    "    return tuple(state_disc)"
   ]
  },
  {
   "cell_type": "markdown",
   "id": "779c1576-eff2-4b3c-8069-f6d30243f1e6",
   "metadata": {},
   "source": [
    "## **4. Agentes y la interacción con el entorno**"
   ]
  },
  {
   "cell_type": "markdown",
   "id": "d594f89c-70b1-4c7c-939f-d654a5263f1c",
   "metadata": {},
   "source": [
    "Definimos una interfaz para nuestro agente:"
   ]
  },
  {
   "cell_type": "code",
   "execution_count": 3,
   "id": "93e7059a-7b68-4b13-857b-16e96c5f9793",
   "metadata": {},
   "outputs": [],
   "source": [
    "class Agente:\n",
    "    def elegir_accion(self, estado, max_accion, explorar = True) -> int:\n",
    "        \"\"\"Elegir la accion a tomar en el estado actual y el espacio de acciones\n",
    "            - estado_anterior: el estado desde que se empezó\n",
    "            - estado_siguiente: el estado al que se llegó\n",
    "            - accion: la acción que llevo al agente desde estado_anterior a estado_siguiente\n",
    "            - recompensa: la recompensa recibida en la transicion\n",
    "            - terminado: si el episodio terminó\n",
    "        \"\"\"\n",
    "        pass\n",
    "\n",
    "    def aprender(self, estado_anterior, estado_siguiente, accion, recompensa, terminado):\n",
    "        \"\"\"Aprender a partir de la tupla \n",
    "            - estado_anterior: el estado desde que se empezó\n",
    "            - estado_siguiente: el estado al que se llegó\n",
    "            - accion: la acción que llevo al agente desde estado_anterior a estado_siguiente\n",
    "            - recompensa: la recompensa recibida en la transicion\n",
    "            - terminado: si el episodio terminó en esta transición\n",
    "        \"\"\"\n",
    "        pass\n",
    "\n",
    "    def fin_episodio(self):\n",
    "        \"\"\"Actualizar estructuras al final de un episodio\"\"\"\n",
    "        pass"
   ]
  },
  {
   "cell_type": "markdown",
   "id": "19498b0d-eb74-431e-ac7f-612497ca07f3",
   "metadata": {},
   "source": [
    "Luego definimos la función `ejecutar_episodio` para ejecutar un episodio con el agente AgenteRL:"
   ]
  },
  {
   "cell_type": "code",
   "execution_count": 4,
   "id": "038e9f56-f0cf-40b7-b3c3-a63b34572bc7",
   "metadata": {},
   "outputs": [],
   "source": [
    "def ejecutar_episodio(agente, aprender, render, max_iteraciones=500):\n",
    "    if (render):\n",
    "        entorno = gym.make('LunarLander-v2', render_mode='human').env\n",
    "    else: \n",
    "        entorno = gym.make('LunarLander-v2').env\n",
    "    \n",
    "    iteraciones = 0\n",
    "    recompensa_total = 0\n",
    "\n",
    "    termino = False\n",
    "    truncado = False\n",
    "    estado_anterior, info = entorno.reset()\n",
    "    while iteraciones < max_iteraciones and not termino and not truncado:\n",
    "        if render:\n",
    "            entorno.render()\n",
    "        # Le pedimos al agente que elija entre las posibles acciones (0..entorno.action_space.n)\n",
    "        accion = agente.elegir_accion(estado_anterior, entorno.action_space.n, aprender)\n",
    "        # Realizamos la accion\n",
    "        estado_siguiente, recompensa, termino, truncado, info = entorno.step(accion)\n",
    "        # Le informamos al agente para que aprenda\n",
    "        if (aprender):\n",
    "            agente.aprender(estado_anterior, estado_siguiente, accion, recompensa, termino)\n",
    "\n",
    "        estado_anterior = estado_siguiente\n",
    "        iteraciones += 1\n",
    "        recompensa_total += recompensa\n",
    "    if (aprender):\n",
    "        agente.fin_episodio(recompensa_total)\n",
    "    entorno.close()\n",
    "    return recompensa_total"
   ]
  },
  {
   "cell_type": "markdown",
   "id": "086cb250-7bc9-4bd4-a4cd-43cfd561facb",
   "metadata": {},
   "source": [
    "### **5. Programando un agente que aprende**"
   ]
  },
  {
   "cell_type": "markdown",
   "id": "0827e3e2-a84a-462f-8b86-e03425cfc645",
   "metadata": {},
   "source": [
    "A continuación implementamos el agente:"
   ]
  },
  {
   "cell_type": "code",
   "execution_count": 5,
   "id": "a3f37011-ffaa-4d08-b832-c45d0b9060da",
   "metadata": {},
   "outputs": [],
   "source": [
    "import numpy as np\n",
    "import random\n",
    "\n",
    "class AgenteRL(Agente):\n",
    "    # Pueden agregar parámetros al constructor\n",
    "    def __init__(self, states, actions, gamma, start_epsilon, end_epsilon, num_episodes) -> None:\n",
    "        super().__init__()\n",
    "        self.Q = np.zeros((states,actions))\n",
    "        self.visits = np.zeros((states, actions))\n",
    "        self.gamma = gamma\n",
    "        self.epsilon = start_epsilon\n",
    "        self.end_epsilon = end_epsilon\n",
    "        self.decay_factor = (end_epsilon/start_epsilon)**(1/num_episodes) # No usado \n",
    "        self.recompensa_maxima = -np.inf\n",
    "        \n",
    "        \n",
    "    def discretized_state_to_index(self, discretized_state):\n",
    "        return discretized_state[0] * 12800000 + discretized_state[1] * 640000 + discretized_state[2] * 32000 + \\\n",
    "           discretized_state[3] * 1600 + discretized_state[4] * 80 + discretized_state[5] * 4 + \\\n",
    "           discretized_state[6] * 2 + discretized_state[7]\n",
    "           \n",
    "    def actualizar_epsilon(self):\n",
    "        return max(self.end_epsilon, self.epsilon * self.decay_factor)\n",
    "\n",
    "    \n",
    "    def elegir_accion(self, estado, max_accion, explorar = True) -> int:\n",
    "        discretized_state = discretize_state(estado, bins)\n",
    "        row = self.discretized_state_to_index(discretized_state)\n",
    "        \n",
    "        if explorar and np.random.random() < self.epsilon:\n",
    "            return random.randrange(max_accion)  # Exploración\n",
    "        else:\n",
    "            return np.argmax(self.Q[row])  # Explotación\n",
    "    \n",
    "    def aprender(self, estado_anterior, estado_siguiente, accion, recompensa, terminado):\n",
    "        discretized_state_anterior = discretize_state(estado_anterior, bins)\n",
    "        discretized_state_siguiente = discretize_state(estado_siguiente, bins)\n",
    "        \n",
    "        row_anterior = self.discretized_state_to_index(discretized_state_anterior)\n",
    "        self.visits[row_anterior, accion] += 1\n",
    "        alpha_n = 1 / self.visits[row_anterior, accion]\n",
    "\n",
    "        row_siguiente = self.discretized_state_to_index(discretized_state_siguiente)\n",
    "        \n",
    "        # Fórmula de actualización de Q-learning\n",
    "        if not terminado:\n",
    "            self.Q[row_anterior][accion] = (1 - alpha_n) * self.Q[row_anterior][accion] + alpha_n * (recompensa + self.gamma * np.max(self.Q[row_siguiente]))\n",
    "        else:\n",
    "            # Si el episodio terminó, no hay valor de futuro\n",
    "            self.Q[row_anterior][accion] = (1 - alpha_n) * self.Q[row_anterior][accion] + alpha_n * (recompensa)\n",
    "\n",
    "    def fin_episodio(self, recompensa_total):\n",
    "        if recompensa_total > self.recompensa_maxima:\n",
    "            self.recompensa_maxima = recompensa_total\n",
    "            self.epsilon *= 0.9\n",
    "        self.epsilon = max(self.end_epsilon, self.epsilon)\n",
    "        "
   ]
  },
  {
   "cell_type": "markdown",
   "id": "a4b2cdf1",
   "metadata": {},
   "source": [
    "## Explicar implementación"
   ]
  },
  {
   "cell_type": "markdown",
   "id": "b9ee51f5-aff8-4d18-934e-92acdcb617c0",
   "metadata": {},
   "source": [
    "Y ejecutar con el muchos episodios:"
   ]
  },
  {
   "cell_type": "code",
   "execution_count": 6,
   "id": "8e0524d5-0d12-46a8-8437-984b981fbae3",
   "metadata": {},
   "outputs": [
    {
     "name": "stdout",
     "output_type": "stream",
     "text": [
      "Episodio 0 - Promedio de últimas 1000 iteraciones:  -303.30171589892564 - Epsilon: 0.9\n",
      "Episodio 1000 - Promedio de últimas 1000 iteraciones:  -150.11313731978046 - Epsilon: 0.31381059609000017\n",
      "Episodio 2000 - Promedio de últimas 1000 iteraciones:  -133.53895291800018 - Epsilon: 0.28242953648100017\n",
      "Episodio 3000 - Promedio de últimas 1000 iteraciones:  -130.32496689183841 - Epsilon: 0.28242953648100017\n",
      "Episodio 4000 - Promedio de últimas 1000 iteraciones:  -118.89704376616696 - Epsilon: 0.28242953648100017\n",
      "Episodio 5000 - Promedio de últimas 1000 iteraciones:  -115.47265121853644 - Epsilon: 0.28242953648100017\n",
      "Episodio 6000 - Promedio de últimas 1000 iteraciones:  -108.87240315570016 - Epsilon: 0.28242953648100017\n",
      "Episodio 7000 - Promedio de últimas 1000 iteraciones:  -113.56705522959909 - Epsilon: 0.28242953648100017\n",
      "Episodio 8000 - Promedio de últimas 1000 iteraciones:  -110.814554349009 - Epsilon: 0.28242953648100017\n",
      "Episodio 9000 - Promedio de últimas 1000 iteraciones:  -105.85467423319388 - Epsilon: 0.28242953648100017\n"
     ]
    }
   ],
   "source": [
    "# Nota: hay que transformar esta celda en código para ejecutar (Esc + y)\n",
    "# Advertencia: este bloque es un loop infinito si el agente se deja sin implementar\n",
    "entorno = gym.make('LunarLander-v2').env\n",
    "episodios = 100_000\n",
    "agente = AgenteRL(np.prod(NUM_BINS),entorno.action_space.n,1,start_epsilon=1,end_epsilon=0.01,num_episodes=episodios)\n",
    "exitos = 0\n",
    "recompensa_acumulada_intervalo = []\n",
    "exitos_intervalo_array = []\n",
    "exitos_intervalo = 0\n",
    "recompensas = []\n",
    "epsilons = []\n",
    "iteraciones = []\n",
    "intervalos = 1000\n",
    "for i in range(episodios):\n",
    "    recompensa = ejecutar_episodio(agente, aprender=True, render=False)\n",
    "    if (recompensa >= 200):\n",
    "        exitos += 1\n",
    "        exitos_intervalo += 1\n",
    "    recompensa_acumulada_intervalo += [recompensa]\n",
    "    if (i % intervalos == 0):\n",
    "        print('Episodio', i,'- Promedio de últimas', intervalos ,'iteraciones: ', np.mean(recompensa_acumulada_intervalo),'- Epsilon:', agente.epsilon)\n",
    "        recompensas.append(np.mean(recompensa_acumulada_intervalo))\n",
    "        epsilons.append(agente.epsilon)\n",
    "        exitos_intervalo_array.append(exitos_intervalo)\n",
    "        exitos_intervalo = 0\n",
    "        recompensa_acumulada_intervalo = []"
   ]
  },
  {
   "cell_type": "code",
   "execution_count": 7,
   "id": "a8238b17",
   "metadata": {},
   "outputs": [
    {
     "data": {
      "image/png": "[encoded data removed]",
      "text/plain": [
       "<Figure size 1200x600 with 2 Axes>"
      ]
     },
     "metadata": {},
     "output_type": "display_data"
    }
   ],
   "source": [
    "\n",
    "episodios_plot = range(0, episodios, intervalos)\n",
    "# Crear la figura y los ejes\n",
    "plt.figure(figsize=(12, 6))\n",
    "\n",
    "# Primera gráfica: Recompensas en función de episodios\n",
    "plt.subplot(1, 2, 1)\n",
    "plt.plot(episodios_plot, recompensas, label='Recompensa Promedio')\n",
    "plt.xlabel('Episodios')\n",
    "plt.ylabel('Recompensa Promedio')\n",
    "plt.title('Recompensa Promedio por Intervalo')\n",
    "plt.grid(True)\n",
    "plt.legend()\n",
    "\n",
    "# Segunda gráfica: Epsilon en función de episodios\n",
    "plt.subplot(1, 2, 2)\n",
    "plt.plot(episodios_plot, epsilons, label='Epsilon', color='orange')\n",
    "plt.xlabel('Episodios')\n",
    "plt.ylabel('Epsilon')\n",
    "plt.title('Decay de Epsilon durante el Entrenamiento')\n",
    "plt.grid(True)\n",
    "plt.legend()\n",
    "\n",
    "# Mostrar las gráficas\n",
    "plt.tight_layout()  # Ajusta automáticamente los espacios entre subplots\n",
    "plt.show()"
   ]
  },
  {
   "cell_type": "markdown",
   "id": "a7e7b346-6f23-44e2-a645-e4548ab470ef",
   "metadata": {},
   "source": [
    "Analizar los resultados de la ejecución anterior, incluyendo:\n",
    " * Un análisis de los parámetros utilizados en el algoritmo (aprendizaje, política de exploración)\n",
    " * Un análisis de algunos 'cortes' de la matriz Q y la política (p.e. qué hace la nave cuando está cayendo rápidamente hacia abajo, sin rotación)\n",
    "    * Definir los estados (filas) de la matriz Q que cumplan con las condiciones planteadas (caida libre sin rotación, hovering, quieto en el piso)\n",
    " * Un análisis de la evolución de la recompensa promedio\n",
    " * Un análisis de los casos de éxito\n",
    " * Un análisis de los casos en el que el agente falla\n",
    " * Qué limitante del agente de RL les parece que afecta más negativamente su desempeño. Cómo lo mejorarían? "
   ]
  },
  {
   "cell_type": "code",
   "execution_count": 9,
   "id": "f93fe904-e691-42ff-8fd4-b360d08431cc",
   "metadata": {},
   "outputs": [
    {
     "name": "stdout",
     "output_type": "stream",
     "text": [
      "it 25  Exito:  269.75262354815084\n",
      "it 463  Exito:  244.78627384739912\n",
      "it 699  Exito:  278.69249739900437\n",
      "Tasa de éxito: 0.003. Se obtuvo -149.55640052054503 de recompensa, en promedio\n"
     ]
    }
   ],
   "source": [
    "#ejecutar_episodio(agente, aprender=False, render=True, max_iteraciones=500)\n",
    "#print()\n",
    "exitos = 0\n",
    "num_episodios = 1000\n",
    "recompensa_episodios = []\n",
    "for i in range(num_episodios):\n",
    "    recompensa = ejecutar_episodio(agente, aprender=False, render=False)\n",
    "    # Los episodios se consideran exitosos si se obutvo 200 o más de recompensa total\n",
    "    if (recompensa >= 200):\n",
    "        exitos += 1\n",
    "        print('it', i, ' Exito: ',recompensa)\n",
    "    # print('it', i, ' Recompensa: ',recompensa)\n",
    "    recompensa_episodios += [recompensa]\n",
    "print(f\"Tasa de éxito: {exitos / num_episodios}. Se obtuvo {np.mean(recompensa_episodios)} de recompensa, en promedio\")\n"
   ]
  }
 ],
 "metadata": {
  "kernelspec": {
   "display_name": "Python 3",
   "language": "python",
   "name": "python3"
  },
  "language_info": {
   "codemirror_mode": {
    "name": "ipython",
    "version": 3
   },
   "file_extension": ".py",
   "mimetype": "text/x-python",
   "name": "python",
   "nbconvert_exporter": "python",
   "pygments_lexer": "ipython3",
   "version": "3.10.12"
  }
 },
 "nbformat": 4,
 "nbformat_minor": 5
}
