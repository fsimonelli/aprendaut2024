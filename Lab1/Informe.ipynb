{
 "cells": [
  {
   "cell_type": "markdown",
   "metadata": {},
   "source": [
    "# Laboratorio 1 - Informe\n",
    "\n",
    "### Grupo 4:\n",
    "     - S. Calvo C.I 5.711.417-7     \n",
    "     - X. Iribarnegaray C.I\n",
    "     - J. Simonelli C.I 5.405.358-4"
   ]
  },
  {
   "cell_type": "markdown",
   "metadata": {},
   "source": [
    "## 1. Objetivo"
   ]
  },
  {
   "cell_type": "markdown",
   "metadata": {},
   "source": [
    "El objetivo de este laboratorio es:\n",
    "- Implementar el algoritmo ID3, añadiendo el hiperparámetro *max_range_split*, que determina la cantidad máxima de rangos en los que se puede partir un atributo númerico.\n",
    "- Utilizar scikit-learn para el preprocesamiento de datos y la creación de modelos basados en árboles de decisión.\n",
    "- Evaluar y comparar los modelos generados."
   ]
  },
  {
   "cell_type": "markdown",
   "metadata": {},
   "source": [
    "## 2. Diseño"
   ]
  },
  {
   "cell_type": "markdown",
   "metadata": {},
   "source": [
    "### 2.1 Preprocesamiento de datos\n",
    "Previo a la ejecución del algoritmo se es provisto a este, mediante una variable global, el conjunto de feature values continuos. Luego, durante la ejecución del algoritmo, se discretizaran los valores asociados a estos feature values.\n",
    "\n",
    "\n",
    "### 2.2 Algoritmo\n",
    "En primer lugar, definimos la función `entropy(dataset, target)` que será utilizada a lo largo de la implementación del algoritmo ID3:\n"
   ]
  },
  {
   "cell_type": "code",
   "execution_count": 5,
   "metadata": {},
   "outputs": [],
   "source": [
    "import numpy as np\n",
    "\n",
    "def entropy(dataset, target):\n",
    "    # value_counts() returns a Series containing the counts of unique values\n",
    "    values = dataset[target].value_counts()\n",
    "    # shape returns the size of dataset, shape[0] being the number of rows\n",
    "    total = dataset.shape[0]\n",
    "    p0 = values.iloc[0]/total\n",
    "    if (len(values) > 1):\n",
    "        p1 = values.iloc[1]/total\n",
    "        return -(p0)*np.log2(p0) - (p1) * np.log2(p1)\n",
    "    else: \n",
    "        return -(p0)*np.log2(p0)"
   ]
  },
  {
   "cell_type": "markdown",
   "metadata": {},
   "source": [
    "Luego, el siguiente paso a delinear en el algoritmo es la obtención del \"mejor atributo\". Esto lo logramos mediante la función\\\n",
    "`best_feature(dataset, target, features, continuous_features, max_range_splits)`\\\n",
    "que retorna el siguiente mejor atributo a elegir. Esta decisión es hecha en base a la fórmula de Ganancia vista en el curso, donde, para maximizar la ganancia, basta con minimizar el segundo factor de la fórmula, y, por lo tanto, se eligirá el atributo que minimice este valor.\n"
   ]
  },
  {
   "cell_type": "code",
   "execution_count": 6,
   "metadata": {},
   "outputs": [],
   "source": [
    "from id3 import actually_split\n",
    "def best_feature(dataset, target, features, continuous_features, max_range_splits):\n",
    "    entropies = []\n",
    "    continuous = {}\n",
    "    for feature in features:\n",
    "        if feature in continuous_features:\n",
    "            # Continuous-Valued feature \n",
    "            aux_entropy, best_split = get_splits(dataset, feature, target, max_range_splits)\n",
    "            entropies.append(aux_entropy)\n",
    "            continuous[feature] = best_split\n",
    "        else :\n",
    "            # Discrete-Valued feature\n",
    "            res = 0\n",
    "            for value, count in dataset[feature].value_counts().items():\n",
    "                res += count*entropy(dataset.loc[dataset[feature] == value], target)\n",
    "            entropies.append(res / dataset.shape[0])\n",
    "    best_feature = features[entropies.index(min(entropies))]\n",
    "    \n",
    "    if not (best_feature in continuous):\n",
    "        return best_feature, dataset\n",
    "    return best_feature, actually_split(dataset.copy(), best_feature, continuous[best_feature])"
   ]
  },
  {
   "cell_type": "markdown",
   "metadata": {},
   "source": [
    "Para el caso en el que el atributo a evaluar sea discreto (`else` del `if`), solamente se lleva a cabo el cálculo descrito previamente.\\\n",
    "Por otro lado, para el caso de evaluar un atributo de valores continuos, se debe realizar otro procedimiento."
   ]
  },
  {
   "cell_type": "markdown",
   "metadata": {},
   "source": [
    "\n",
    "Dado que por defecto el algoritmo ID3 solamente aplica a ejemplares de valores discretos, en el caso de querer entrenar un modelo mediante un dataset que contiene valores continuos, será necesario discretizarlos en tiempo de ejecución.\\\n",
    "Esto es logrado mediante la división de los valores continuos, con valores calculados con el promedio de dos puntos con valores objetivo distintos. Luego, dependiendo del valor del hiperparámetro *max_range_splits* (de valor 2 o 3 ), utilizamos combinaciones de estos puntos para particionar los valores continuos en rangos. De esta manera, obtenemos finalmente un atributo de valores discretos.\\\n",
    "\\\n",
    "Sin embargo se debe tener en cuenta que, en datasets de gran tamaño, es probable que exista una gran cantidad de posibles puntos de corte, por lo cual es necesario identificar el mejor o mejor par de puntos. De manera similar al cálculo del \"mejor atributo\", se realiza un cálculo de la ganancia para cada split, y se elige el que minimice el segundo factor de la fórmula. Para esto, se utiliza la función \n",
    "`get_splits(dataset, feature, target, max_range_splits)`"
   ]
  },
  {
   "cell_type": "code",
   "execution_count": 7,
   "metadata": {},
   "outputs": [],
   "source": [
    "from id3 import generate_every_pair_from_list\n",
    "from id3 import discretize_dataset\n",
    "\n",
    "def get_splits(dataset, feature, target, max_range_splits):\n",
    "    min_entropy = 2\n",
    "    dataset = dataset.sort_values(by=feature)\n",
    "    current_target = dataset[target].iloc[0]\n",
    "    dataset_size = dataset.shape[0]\n",
    "    candidate_splits = []\n",
    "    best_values = []\n",
    "    \n",
    "    # Finding splits, iterating through the dataset rows\n",
    "    for i in range(1, dataset_size):\n",
    "        if current_target != dataset[target].iloc[i]:\n",
    "            candidate_splits.append((dataset[feature].iloc[i-1] + dataset[feature].iloc[i])/2)\n",
    "            current_target = dataset[target].iloc[i]\n",
    "\n",
    "    splits = generate_every_pair_from_list(candidate_splits, max_range_splits)\n",
    "    \n",
    "    # Finding the split that minimizes the information gain component \n",
    "    for split in splits:\n",
    "        split_dataset = discretize_dataset(dataset.copy(), feature, split)\n",
    "        aux_entropy = 0\n",
    "        for value, count in split_dataset[feature].value_counts().items():\n",
    "            aux_entropy += count*entropy(split_dataset.loc[split_dataset[feature] == value], target)\n",
    "        aux_entropy = aux_entropy / split_dataset.shape[0]\n",
    "            \n",
    "        if (aux_entropy < min_entropy):\n",
    "            min_entropy = aux_entropy\n",
    "            best_values = split\n",
    "            \n",
    "    return (min_entropy,best_values)"
   ]
  },
  {
   "cell_type": "markdown",
   "metadata": {},
   "source": [
    "Por su parte, la función `generate_every_pair_from_list` se encarga de generar todas las posibles combinaciones de puntos de corte para un atributo continuo, y hemos decidido que, en caso de obtener más de 500 combinaciones, se elija un subconjunto aleatorio de tamaño 500 de estas, para evitar un tiempo de ejecución excesivo.\\\n",
    "Además, para alterar el dataset en tiempo de ejecución, se utiliza la función `discretize_dataset`, que se encarga de discretizar los valores de un atributo continuo en base a el o los puntos de corte obtenidos.\\\n",
    "A través de `get_splits`, obtenemos ya sea el mejor valor o mejor par de valores por los cuales dividir el atributo continuo, junto con el componente de entropía que se utilizará en `best_feature` para determinar el mejor atributo a elegir."
   ]
  },
  {
   "cell_type": "markdown",
   "metadata": {},
   "source": [
    "Finalmente, con todas estas funciones implementadas, obtenemos la siguiente implementación del algoritmo ID3:"
   ]
  },
  {
   "cell_type": "code",
   "execution_count": null,
   "metadata": {},
   "outputs": [],
   "source": [
    "def id3(dataset, target, features, max_range_splits, intact_dataset):\n",
    "    if len(features) == 0 or len(dataset[target].value_counts().index) == 1:\n",
    "        # value_counts[0] is either the only or the most common target value left in the current dataset.\n",
    "        return dataset[target].value_counts().index[0] \n",
    "    best, dataset = best_feature(dataset, target, features, continuous_features, max_range_splits)\n",
    "    decision_tree = {best: {}}\n",
    "    new_features = features.copy()\n",
    "    new_features.remove(best)\n",
    "    if(best in continuous_features):\n",
    "        auxDataset = dataset\n",
    "    else:\n",
    "        auxDataset = intact_dataset\n",
    "    for value in auxDataset[best].value_counts().index:\n",
    "        examples = dataset.loc[dataset[best] == value]\n",
    "        if (len(examples) == 0):\n",
    "            decision_tree[best][value] = auxDataset.value_counts().index[0]\n",
    "        else:\n",
    "            decision_tree[best][value] = id3(examples, target, new_features, max_range_splits, intact_dataset)\n",
    "    return  decision_tree\n"
   ]
  },
  {
   "cell_type": "code",
   "execution_count": null,
   "metadata": {},
   "outputs": [],
   "source": [
    "import pandas as pd\n",
    "import pprint as pprint\n",
    "\n",
    "DATASET_FILE = \"./lab1_dataset.csv\"\n",
    "dataset = pd.read_csv(DATASET_FILE, sep=\",\")\n",
    "\n",
    "continuous_features = ['time', 'age', 'wtkg', 'karnof', 'preanti', 'cd40', 'cd420', 'cd80', 'cd820']\n",
    "target = 'cid'\n",
    "features = ['time', 'trt', 'age', 'wtkg', 'hemo', 'homo', 'drugs', 'karnof',\n",
    "       'oprior', 'z30', 'zprior', 'preanti', 'race', 'gender', 'str2', 'strat',\n",
    "       'symptom', 'treat', 'offtrt', 'cd40', 'cd420', 'cd80', 'cd820']\n",
    "\n",
    "decision_tree = id3(dataset, target, features, 2)"
   ]
  },
  {
   "cell_type": "markdown",
   "metadata": {},
   "source": [
    "\n",
    "\n",
    "### 2.3 Evaluación\n",
    "Discutir:\n",
    "    - Calculo de porcentaje\n",
    "    - Division en subconjunto de entrenamiento y evaluacion- Qué conjunto de métricas se utilizan para la evaluación de la solución y su definición\n",
    "- Sobre qué conjunto(s) se realiza el entrenamiento, ajuste de la solución, evaluación, etc. Explicar cómo se construyen estos conjuntos."
   ]
  },
  {
   "cell_type": "markdown",
   "metadata": {},
   "source": [
    "\n",
    "Dado que por defecto algoritmo ID3 solamente aplica a ejemplares de valores discretos, en el caso de querer entrenar un modelo mediante un dataset que contiene valores continuos, será necesario discretizarlos en tiempo de ejecución. Esto es logrado mediante la división de los valores continuos utilizando *splits*, con posibles valores calculados con el promedio de dos puntos con valores objetivo distintos. Luego, dependiendo del valor del hiperparámetro *max_range_splits* (2 o 3 ), . Sin embargo, en datasets de gran tamaño, es probable que exista una gran cantidad de posibles splits, por lo cual es necesario identificar \n",
    "\n",
    "Cosas a mencionar:\n",
    "    -Max split y discretizacion\n",
    "\n",
    "## 2.3 Evaluación\n",
    "Discutir:\n",
    "    - Calculo de porcentaje\n",
    "    - Division en subconjunto de entrenamiento y evaluacion- Qué conjunto de métricas se utilizan para la evaluación de la solución y su definición\n",
    "- Sobre qué conjunto(s) se realiza el entrenamiento, ajuste de la solución, evaluación, etc. Explicar cómo se construyen estos conjuntos."
   ]
  }
 ],
 "metadata": {
  "kernelspec": {
   "display_name": "Python 3",
   "language": "python",
   "name": "python3"
  },
  "language_info": {
   "codemirror_mode": {
    "name": "ipython",
    "version": 3
   },
   "file_extension": ".py",
   "mimetype": "text/x-python",
   "name": "python",
   "nbconvert_exporter": "python",
   "pygments_lexer": "ipython3",
   "version": "3.10.12"
  }
 },
 "nbformat": 4,
 "nbformat_minor": 2
}
