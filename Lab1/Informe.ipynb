{
 "cells": [
  {
   "cell_type": "markdown",
   "metadata": {},
   "source": [
    "# Laboratorio 1 - Informe\n",
    "\n",
    "### Grupo 4:\n",
    "     - S. Calvo C.I 5.711.417-7     \n",
    "     - X. Iribarnegaray C.I\n",
    "     - J. Simonelli C.I 5.405.358-4"
   ]
  },
  {
   "cell_type": "markdown",
   "metadata": {},
   "source": [
    "## 1. Objetivo"
   ]
  },
  {
   "cell_type": "markdown",
   "metadata": {},
   "source": [
    "El objetivo de este laboratorio es:\n",
    "- Implementar el algoritmo ID3, añadiendo el hiperparámetro *max_range_split*, que determina la cantidad máxima de rangos en los que se puede partir un atributo númerico.\n",
    "- Utilizar scikit-learn para el preprocesamiento de datos y la creación de modelos basados en árboles de decisión.\n",
    "- Evaluar y comparar los modelos generados."
   ]
  },
  {
   "cell_type": "markdown",
   "metadata": {},
   "source": [
    "## 2. Diseño"
   ]
  },
  {
   "cell_type": "markdown",
   "metadata": {},
   "source": [
    "### 2.1 Preprocesamiento de datos\n",
    "Previo a la ejecución del algoritmo se es provisto a este, mediante una variable global, el conjunto de feature values continuos. Luego, durante la ejecución del algoritmo, se discretizaran los valores asociados a estos feature values.\n",
    "\n",
    "\n",
    "### 2.2 Algoritmo\n",
    "En primer lugar, definimos la función `entropy(dataset, target)` que será utilizada a lo largo de la implementación del algoritmo ID3:\n"
   ]
  },
  {
   "cell_type": "code",
   "execution_count": null,
   "metadata": {},
   "outputs": [],
   "source": [
    "import numpy as np\n",
    "\n",
    "def entropy(dataset, target):\n",
    "    # value_counts() returns a Series containing the counts of unique values\n",
    "    values = dataset[target].value_counts()\n",
    "    # shape returns the size of dataset, shape[0] being the number of rows\n",
    "    total = dataset.shape[0]\n",
    "    p0 = values.iloc[0]/total\n",
    "    if (len(values) > 1):\n",
    "        p1 = values.iloc[1]/total\n",
    "        return -(p0)*np.log2(p0) - (p1) * np.log2(p1)\n",
    "    else: \n",
    "        return -(p0)*np.log2(p0)"
   ]
  },
  {
   "cell_type": "markdown",
   "metadata": {},
   "source": [
    "Luego, el siguiente paso a delinear en el algoritmo es la obtención del \"mejor atributo\". Esto lo logramos mediante la función\\\n",
    "`best_feature(dataset, target, features, continuous_features, max_range_splits)`\\\n",
    "que retorna el siguiente mejor atributo a elegir. Esta decisión es hecha en base a la fórmula de Ganancia vista en el curso, donde, para maximizar la ganancia, basta con minimizar el segundo factor de la fórmula, y, por lo tanto, se eligirá el atributo que minimice este valor.\n"
   ]
  },
  {
   "cell_type": "code",
   "execution_count": null,
   "metadata": {},
   "outputs": [],
   "source": [
    "def best_feature(dataset, target, features, continuous_features, max_range_splits):\n",
    "    conditional_entropies = []\n",
    "    continuous = {}\n",
    "    for feature in features:\n",
    "        if feature in continuous_features:\n",
    "            # Continuous-Valued feature \n",
    "            aux_entropy, best_split = get_splits(dataset, feature, target, max_range_splits)\n",
    "            conditional_entropies.append(aux_entropy)\n",
    "            continuous[feature] = best_split\n",
    "        else :\n",
    "            # Discrete-Valued feature \n",
    "            res = 0\n",
    "            for value, count in dataset[feature].value_counts().items():\n",
    "                res += count*entropy(dataset.loc[dataset[feature] == value], target)\n",
    "            conditional_entropies.append(res / dataset.shape[0])\n",
    "    best_feature = features[conditional_entropies.index(min(conditional_entropies))]\n",
    "    \n",
    "    if not (best_feature in continuous):\n",
    "        return best_feature, None\n",
    "    return best_feature, continuous[best_feature]\n"
   ]
  },
  {
   "cell_type": "markdown",
   "metadata": {},
   "source": [
    "Para el caso en el que el atributo a evaluar sea discreto (`else` del `if`), solamente se lleva a cabo el cálculo descrito previamente.\\\n",
    "Por otro lado, para el caso de evaluar un atributo de valores continuos, se debe realizar otro procedimiento."
   ]
  },
  {
   "cell_type": "markdown",
   "metadata": {},
   "source": [
    "\n",
    "Dado que por defecto el algoritmo ID3 solamente aplica a ejemplares de valores discretos, en el caso de querer entrenar un modelo mediante un dataset que contiene valores continuos, será necesario discretizarlos en tiempo de ejecución.\\\n",
    "Esto es logrado mediante la división de los valores continuos, con valores calculados con el promedio de dos puntos con valores objetivo distintos. Luego, dependiendo del valor del hiperparámetro *max_range_splits* (de valor 2 o 3 ), utilizamos combinaciones de estos puntos para particionar los valores continuos en rangos. De esta manera, obtenemos finalmente un atributo de valores discretos.\\\n",
    "\\\n",
    "Sin embargo se debe tener en cuenta que, en datasets de gran tamaño, es probable que exista una gran cantidad de posibles puntos de corte, por lo cual es necesario identificar el mejor o mejor par de puntos. De manera similar al cálculo del \"mejor atributo\", se realiza un cálculo de la ganancia para cada split, y se elige el que minimice el segundo factor de la fórmula. Para esto, se utiliza la función \n",
    "`get_splits(dataset, feature, target, max_range_splits)`"
   ]
  },
  {
   "cell_type": "code",
   "execution_count": null,
   "metadata": {},
   "outputs": [],
   "source": [
    "def get_splits(dataset, feature, target, max_range_splits):\n",
    "    min_conditional_entropy = 2\n",
    "    dataset = dataset.sort_values(by=feature)\n",
    "    current_target = dataset[target].iloc[0]\n",
    "    dataset_size = dataset.shape[0]\n",
    "    candidate_splits = []\n",
    "    best_splits = []\n",
    "    \n",
    "    # Finding splits\n",
    "    for i in range(1, dataset_size):\n",
    "        if current_target != dataset[target].iloc[i]:\n",
    "            candidate_splits.append((dataset[feature].iloc[i-1] + dataset[feature].iloc[i])/2)\n",
    "            current_target = dataset[target].iloc[i]\n",
    "    \n",
    "    sample = candidate_splits\n",
    "    if len(candidate_splits) > 50:\n",
    "        sample = random.sample(candidate_splits, 50)\n",
    "    \n",
    "    splits = generate_combinations(sample, max_range_splits)\n",
    " \n",
    "    for split in splits:\n",
    "        splitted_dataset = split_dataset(dataset, feature, split)\n",
    "        aux_conditional_entropy = 0\n",
    "        for value, count in splitted_dataset[feature].value_counts().items():\n",
    "            aux_conditional_entropy += count*entropy(splitted_dataset.loc[splitted_dataset[feature] == value], target)\n",
    "        aux_conditional_entropy = aux_conditional_entropy / splitted_dataset.shape[0]\n",
    "            \n",
    "        if (aux_conditional_entropy < min_conditional_entropy):\n",
    "            min_conditional_entropy = aux_conditional_entropy\n",
    "            best_splits = split\n",
    "            \n",
    "    return (min_conditional_entropy, best_splits)"
   ]
  },
  {
   "cell_type": "markdown",
   "metadata": {},
   "source": [
    "Por su parte, la función `generate_combinations` se encarga de generar todas las posibles combinaciones de puntos de corte para un atributo continuo, y hemos decidido que, en caso de obtener más de 500 combinaciones, se elija un subconjunto aleatorio de tamaño 500 de estas, para evitar un tiempo de ejecución excesivo.\\\n",
    "Además, para alterar el dataset en tiempo de ejecución, se utiliza la función `split_dataset`, que se encarga de discretizar los valores de un atributo continuo en base a el o los puntos de corte obtenidos.\\\n",
    "A través de `get_splits`, obtenemos ya sea el mejor valor o mejor par de valores por los cuales dividir el atributo continuo, junto con el componente de entropía que se utilizará en `best_feature` para determinar el mejor atributo a elegir."
   ]
  },
  {
   "cell_type": "markdown",
   "metadata": {},
   "source": [
    "Finalmente, con todas estas funciones implementadas, obtenemos la siguiente implementación del algoritmo ID3:"
   ]
  },
  {
   "cell_type": "code",
   "execution_count": null,
   "metadata": {},
   "outputs": [],
   "source": [
    "def id3(dataset, target, features, continuous_features, max_range_splits, intact_dataset):\n",
    "    if len(features) == 0 or len(dataset[target].value_counts().index) == 1:\n",
    "        # value_counts[0] is either the only or the most common target value left in the current dataset.\n",
    "        return dataset[target].value_counts().index[0] \n",
    " \n",
    "    best, best_splits = best_feature(dataset, target, features, continuous_features, max_range_splits)\n",
    "    decision_tree = {best: {}}\n",
    "    \n",
    "    new_features = features.copy()\n",
    "    new_features.remove(best)\n",
    "    \n",
    "    original_dataset = intact_dataset\n",
    "    \n",
    "    if best_splits:\n",
    "        original_dataset = split_dataset(intact_dataset, best, best_splits)\n",
    "        dataset = split_dataset(dataset, best, best_splits)\n",
    "        \n",
    "    for value in original_dataset[best].value_counts().index:\n",
    "        examples = dataset.loc[dataset[best] == value]\n",
    "        if (len(examples) == 0):\n",
    "            decision_tree[best][value] = original_dataset.loc[original_dataset[best] == value][target].value_counts().index[0]\n",
    "        else:\n",
    "            decision_tree[best][value] = id3(examples, target, new_features, continuous_features, max_range_splits, intact_dataset)\n",
    "    \n",
    "    return decision_tree"
   ]
  },
  {
   "cell_type": "markdown",
   "metadata": {},
   "source": [
    "Este algoritmo comienza analizando si quedan features a analizar o si todos los ejemplos tienen el mismo valor en el dataset restante. En estos casos se etiquetan con el valor más común y se retorna esta etiqueta. En el segundo caso en particular, el valor más común siendo el único restante. Siguiendo el algoritmo ID3, calculamos el mejor atributo mediante la función `best_feature`, explicada anteriormente, y guardamos los mejores splits si el atributo es continuo. Una vez elegido el atributo, se crea un diccionario donde guardar las ramas del árbol que se generarán. Si el valor es discreto se itera por cada valor posible, usando los valores del conjunto de datos inicial, creando ramas por cada uno. En estas ramas, si no hay ejemplos de este valor, se asigna el valor más común de los ejemplos con este valor del conjunto de datos original y, de lo contrario, se llama de forma recursiva a la función id3 quitando este atributo como posibles atributos y usando como conjunto de datos los ejemplos del valor. Si es continuo, se itera sobre los valores posibles dada la discretización por `split_dataset` y, en el caso de que no haya ejemplos, se utiliza el valor más común del dataset_original utilizando la misma discretización."
   ]
  },
  {
   "cell_type": "markdown",
   "metadata": {},
   "source": [
    "## Comparativa entre preprocesamiento y max_range_splits = 2 con diferentes ratios train/test"
   ]
  },
  {
   "cell_type": "code",
   "execution_count": null,
   "metadata": {},
   "outputs": [],
   "source": [
    "from id3 import get_splits, split_dataset, id3, split_into_train_test, test_instances, init\n",
    "from datetime import datetime\n",
    "import random\n",
    "\n",
    "dataset, features, continuous_features, target = init()\n",
    "\n",
    "for i in range(50,100,10):\n",
    "       print('\\n',i,'% entrenamiento, ',100-i, '% test' )\n",
    "       train_ds, test_ds = split_into_train_test(dataset,i/100)\n",
    "       \n",
    "       # Preprocessed\n",
    "       preprocessed_dataset = train_ds.copy()\n",
    "       for cont_feature in continuous_features:\n",
    "              entropy, splits = get_splits(preprocessed_dataset,cont_feature,target,2)\n",
    "              preprocessed_dataset = split_dataset(preprocessed_dataset,cont_feature,splits)\n",
    "       startTime = datetime.now()\n",
    "       preprocessed_decision_tree = id3(preprocessed_dataset, target, features, [], 2, preprocessed_dataset)\n",
    "       preprocessed_time = datetime.now() - startTime\n",
    "       acierto_pre = test_instances(preprocessed_decision_tree,test_ds)\n",
    "       print('Preprocessed: ', end='')\n",
    "       print('Accuracy: ',acierto_pre,'%', ' Time: ', preprocessed_time)\n",
    "       \n",
    "       \n",
    "       # Max_Range_Splits_2\n",
    "       startTime = datetime.now()\n",
    "       max_range_split_2_decision_tree = id3(train_ds,target,features, continuous_features, 2, train_ds)\n",
    "       max_range_split_2_time = datetime.now() - startTime\n",
    "       acierto_run = test_instances(max_range_split_2_decision_tree,test_ds)\n",
    "       print('Max Range Split 2: ', end='')\n",
    "       print('Accuracy: ',acierto_run,'%', ' Time: ', max_range_split_2_time)\n",
    "       \n",
    "\n",
    "\n"
   ]
  },
  {
   "cell_type": "markdown",
   "metadata": {},
   "source": [
    "## Comparativa entre preprocesamiento y max_range_splits = 3 con diferentes ratios train/test"
   ]
  },
  {
   "cell_type": "code",
   "execution_count": null,
   "metadata": {},
   "outputs": [],
   "source": [
    "from id3 import get_splits, split_dataset, id3, split_into_train_test, test_instances, init\n",
    "from datetime import datetime\n",
    "import random\n",
    "\n",
    "dataset, features, continuous_features, target = init()\n",
    "\n",
    "random.seed(1)\n",
    "\n",
    "for i in range(50,100,10):\n",
    "       print('\\n',i,'% entrenamiento, ',100-i, '% test' )\n",
    "       train_ds, test_ds = split_into_train_test(dataset,i/100)\n",
    "       \n",
    "       # Preprocessed\n",
    "       preprocessed_dataset = train_ds.copy()\n",
    "       for cont_feature in continuous_features:\n",
    "              entropy, splits = get_splits(preprocessed_dataset,cont_feature,target,2)\n",
    "              preprocessed_dataset = split_dataset(preprocessed_dataset,cont_feature,splits)\n",
    "       startTime = datetime.now()\n",
    "       preprocessed_decision_tree = id3(preprocessed_dataset, target, features, [], 2, preprocessed_dataset)\n",
    "       preprocessed_time = datetime.now() - startTime\n",
    "       acierto_pre = test_instances(preprocessed_decision_tree,test_ds)\n",
    "       print('Preprocessed: ', end='')\n",
    "       print('Accuracy: ',acierto_pre,'%', ' Time: ', preprocessed_time)\n",
    "       \n",
    "       # Max_Range_Splits_3\n",
    "       startTime = datetime.now()\n",
    "       max_range_split_3_decision_tree = id3(train_ds,target,features, continuous_features, 3, train_ds)\n",
    "       max_range_split_3_time = datetime.now() - startTime\n",
    "       acierto_run = test_instances(max_range_split_3_decision_tree,test_ds)\n",
    "       print('Max Range Split 3: ', end='')\n",
    "       print('Accuracy: ',acierto_run,'%', ' Time: ', max_range_split_3_time)"
   ]
  },
  {
   "cell_type": "markdown",
   "metadata": {},
   "source": [
    "## Random Forest vs Decision Tree Classifier vs Max_range_splits = 2 vs Max_range_splits = 3"
   ]
  },
  {
   "cell_type": "code",
   "execution_count": 4,
   "metadata": {},
   "outputs": [
    {
     "name": "stdout",
     "output_type": "stream",
     "text": [
      "Random forest accuracy:  88.3177570093458 %\n",
      "Decission Tree Classifier accuracy:  82.71028037383178 %\n",
      "Max Range Split 2 accuracy:  83.17757009345794 %\n",
      "Max Range Split 3 accuracy:  79.43925233644859 %\n"
     ]
    }
   ],
   "source": [
    "from sklearn.ensemble import RandomForestClassifier\n",
    "from sklearn.model_selection import train_test_split\n",
    "from sklearn.metrics import accuracy_score\n",
    "from sklearn.preprocessing import OneHotEncoder\n",
    "from sklearn.tree import DecisionTreeClassifier\n",
    "from id3 import init, split_into_train_test, id3, test_instances\n",
    "\n",
    "dataset, features, continuous_features, target = init()\n",
    "\n",
    "X = dataset.drop(target, axis=1)\n",
    "y = dataset[target]\n",
    "X_train, X_test, y_train, y_test = train_test_split(X, y, test_size=0.2, random_state=0)\n",
    "\n",
    "ohe = OneHotEncoder(sparse_output=False)\n",
    "\n",
    "discrete_features = list(set(features) - set(continuous_features))\n",
    "\n",
    "for feat in discrete_features:\n",
    "    ohe.fit(dataset[feat].to_numpy().reshape(-1, 1))\n",
    "    \n",
    "    # Transform the training and test data using the fitted OneHotEncoder\n",
    "    # Converts the categorical feature in X_train and X_test to one-hot encoded format\n",
    "    new_train = ohe.transform(X_train[feat].to_numpy().reshape(-1,1))\n",
    "    new_test = ohe.transform(X_test[feat].to_numpy().reshape(-1,1))\n",
    "    \n",
    "    # Create column names for the new one-hot encoded features\n",
    "    column_names = [f\"{feat}_{cat}\" for cat in ohe.categories_[0]]\n",
    "    \n",
    "    for i, col_name in enumerate(column_names):\n",
    "        # Add the new one-hot encoded columns to the X_train and X_test DataFrame\n",
    "        X_train[col_name] = new_train[:, i]\n",
    "        X_test[col_name] = new_test[:, i]\n",
    "\n",
    "    \n",
    "\n",
    "random_forest = RandomForestClassifier(random_state=0)\n",
    "random_forest.fit(X_train, y_train)\n",
    "\n",
    "decision_tree_classifier = DecisionTreeClassifier(random_state=0)\n",
    "decision_tree_classifier.fit(X_train, y_train)\n",
    "\n",
    "y_pred_random_forest = random_forest.predict(X_test)\n",
    "accuracy_random_forest = accuracy_score(y_test, y_pred_random_forest)\n",
    "print('Random forest accuracy: ', accuracy_random_forest*100, '%')\n",
    "\n",
    "y_pred_decission_tree = decision_tree_classifier.predict(X_test)\n",
    "accuracy_decision_tree_classifier = accuracy_score(y_test, y_pred_decission_tree)\n",
    "print('Decission Tree Classifier accuracy: ', accuracy_decision_tree_classifier*100, '%')\n",
    "\n",
    "train_ds, test_ds = split_into_train_test(dataset,0.8)\n",
    "\n",
    "max_range_split_2_decision_tree = id3(train_ds,target,features, continuous_features, 2, train_ds)\n",
    "acierto_split_2 = test_instances(max_range_split_2_decision_tree,test_ds)\n",
    "print('Max Range Split 2 accuracy: ',acierto_split_2,'%')#, ' Time: ', preprocessed_time)\n",
    "\n",
    "max_range_split_3_decision_tree = id3(train_ds,target,features, continuous_features, 3, train_ds)\n",
    "acierto_split_3 = test_instances(max_range_split_3_decision_tree,test_ds)\n",
    "print('Max Range Split 3 accuracy: ',acierto_split_3,'%')#, ' Time: ', preprocessed_time)\n",
    "\n",
    "\n"
   ]
  },
  {
   "cell_type": "markdown",
   "metadata": {},
   "source": [
    "### Decision Tree Classifier"
   ]
  },
  {
   "cell_type": "code",
   "execution_count": null,
   "metadata": {},
   "outputs": [],
   "source": [
    "from sklearn.tree import DecisionTreeClassifier\n",
    "from sklearn.model_selection import train_test_split\n",
    "from sklearn.metrics import accuracy_score\n",
    "from sklearn.preprocessing import OneHotEncoder\n",
    "\n",
    "dataset, features, continuous_features, target = init()\n",
    "\n",
    "X = dataset.drop(target, axis=1)\n",
    "y = dataset[target]\n",
    "X_train, X_test, y_train, y_test = train_test_split(X, y, test_size=0.2, random_state=0)\n",
    "\n",
    "ohe = OneHotEncoder(sparse_output=False)\n",
    "\n",
    "discrete_features = list(set(features) - set(continuous_features))\n",
    "\n",
    "for feat in discrete_features:\n",
    "    ohe.fit(dataset[feat].to_numpy().reshape(-1, 1))\n",
    "    \n",
    "    # Transform the training and test data using the fitted OneHotEncoder\n",
    "    # Converts the categorical feature in X_train and X_test to one-hot encoded format\n",
    "    new_train = ohe.transform(X_train[feat].to_numpy().reshape(-1,1))\n",
    "    new_test = ohe.transform(X_test[feat].to_numpy().reshape(-1,1))\n",
    "    \n",
    "    # Create column names for the new one-hot encoded features\n",
    "    column_names = [f\"{feat}_{cat}\" for cat in ohe.categories_[0]]\n",
    "    \n",
    "    for i, col_name in enumerate(column_names):\n",
    "        # Add the new one-hot encoded columns to the X_train and X_test DataFrame\n",
    "        X_train[col_name] = new_train[:, i]\n",
    "        X_test[col_name] = new_test[:, i]\n",
    "\n",
    "decision_tree_classifier = DecisionTreeClassifier(random_state=0)\n",
    "\n",
    "decision_tree_classifier.fit(X_train, y_train)\n",
    "\n",
    "y_pred = decision_tree_classifier.predict(X_test)\n",
    "\n",
    "accuracy = accuracy_score(y_test, y_pred)\n",
    "print('Decision Tree Classifier accuracy: ', accuracy*100, '%')"
   ]
  },
  {
   "cell_type": "markdown",
   "metadata": {},
   "source": [
    "\n",
    "\n",
    "### 2.3 Evaluación\n",
    "Discutir:\n",
    "    - Calculo de porcentaje\n",
    "    - Division en subconjunto de entrenamiento y evaluacion- Qué conjunto de métricas se utilizan para la evaluación de la solución y su definición\n",
    "- Sobre qué conjunto(s) se realiza el entrenamiento, ajuste de la solución, evaluación, etc. Explicar cómo se construyen estos conjuntos."
   ]
  },
  {
   "cell_type": "markdown",
   "metadata": {},
   "source": [
    "\n",
    "Dado que por defecto algoritmo ID3 solamente aplica a ejemplares de valores discretos, en el caso de querer entrenar un modelo mediante un dataset que contiene valores continuos, será necesario discretizarlos en tiempo de ejecución. Esto es logrado mediante la división de los valores continuos utilizando *splits*, con posibles valores calculados con el promedio de dos puntos con valores objetivo distintos. Luego, dependiendo del valor del hiperparámetro *max_range_splits* (2 o 3 ), . Sin embargo, en datasets de gran tamaño, es probable que exista una gran cantidad de posibles splits, por lo cual es necesario identificar \n",
    "\n",
    "Cosas a mencionar:\n",
    "    -Max split y discretizacion\n",
    "\n",
    "## 2.3 Evaluación\n",
    "Discutir:\n",
    "    - Calculo de porcentaje\n",
    "    - Division en subconjunto de entrenamiento y evaluacion- Qué conjunto de métricas se utilizan para la evaluación de la solución y su definición\n",
    "- Sobre qué conjunto(s) se realiza el entrenamiento, ajuste de la solución, evaluación, etc. Explicar cómo se construyen estos conjuntos."
   ]
  }
 ],
 "metadata": {
  "kernelspec": {
   "display_name": "Python 3",
   "language": "python",
   "name": "python3"
  },
  "language_info": {
   "codemirror_mode": {
    "name": "ipython",
    "version": 3
   },
   "file_extension": ".py",
   "mimetype": "text/x-python",
   "name": "python",
   "nbconvert_exporter": "python",
   "pygments_lexer": "ipython3",
   "version": "3.10.12"
  }
 },
 "nbformat": 4,
 "nbformat_minor": 2
}
