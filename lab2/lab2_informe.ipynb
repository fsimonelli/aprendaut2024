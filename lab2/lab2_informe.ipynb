{
 "cells": [
  {
   "cell_type": "code",
   "execution_count": 3,
   "metadata": {},
   "outputs": [
    {
     "name": "stdout",
     "output_type": "stream",
     "text": [
      "80.8411214953271\n",
      "80.8411214953271\n",
      "80.60747663551402\n",
      "77.57009345794393\n"
     ]
    }
   ],
   "source": [
    "from naive_bayes import init, preprocesser, test_instances, split_into_train_test\n",
    "\n",
    "dataset, features, continuous_features, target, possible_features_mrs2, possible_features_mrs3 = init()\n",
    "\n",
    "dataset = preprocesser(dataset, target, continuous_features)\n",
    "\n",
    "train_ds, test_ds = split_into_train_test(dataset,0.8)\n",
    "\n",
    "print(test_instances(train_ds,test_ds,1))\n",
    "print(test_instances(train_ds,test_ds,10))\n",
    "print(test_instances(train_ds,test_ds,100))\n",
    "print(test_instances(train_ds,test_ds,1000))\n",
    "\n"
   ]
  }
 ],
 "metadata": {
  "kernelspec": {
   "display_name": "Python 3",
   "language": "python",
   "name": "python3"
  },
  "language_info": {
   "codemirror_mode": {
    "name": "ipython",
    "version": 3
   },
   "file_extension": ".py",
   "mimetype": "text/x-python",
   "name": "python",
   "nbconvert_exporter": "python",
   "pygments_lexer": "ipython3",
   "version": "3.10.12"
  }
 },
 "nbformat": 4,
 "nbformat_minor": 2
}
