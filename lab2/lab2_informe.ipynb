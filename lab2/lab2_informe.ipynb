{
 "cells": [
  {
   "cell_type": "code",
   "execution_count": 1,
   "metadata": {},
   "outputs": [
    {
     "name": "stdout",
     "output_type": "stream",
     "text": [
      "Naive Bayes común\n",
      "m=1:  80.37383177570094\n",
      "m=10:  80.37383177570094\n",
      "m=100:  63.55140186915887\n",
      "m=1000:  24.065420560747665\n",
      "Naive Bayes logarítmico\n",
      "m=1:  80.37383177570094\n",
      "m=10:  80.37383177570094\n",
      "m=100:  63.55140186915887\n",
      "m=1000:  24.065420560747665\n"
     ]
    }
   ],
   "source": [
    "from naive_bayes import init, preprocesser, test_instances, split_into_train_test\n",
    "\n",
    "dataset, features, continuous_features, target, possible_features_mrs2, possible_features_mrs3 = init()\n",
    "\n",
    "dataset = preprocesser(dataset, target, continuous_features)\n",
    "\n",
    "train_ds, test_ds = split_into_train_test(dataset,0.8)\n",
    "\n",
    "print('Naive Bayes común')\n",
    "print('m=1: ',test_instances(train_ds,test_ds,1,False))\n",
    "print('m=10: ',test_instances(train_ds,test_ds,10,False))\n",
    "print('m=100: ',test_instances(train_ds,test_ds,100,False))\n",
    "print('m=1000: ',test_instances(train_ds,test_ds,1000,False))\n",
    "\n",
    "print('Naive Bayes logarítmico')\n",
    "print('m=1: ',test_instances(train_ds,test_ds,1,True))\n",
    "print('m=10: ',test_instances(train_ds,test_ds,10,True))\n",
    "print('m=100: ',test_instances(train_ds,test_ds,100,True))\n",
    "print('m=1000: ',test_instances(train_ds,test_ds,1000,True))\n"
   ]
  },
  {
   "cell_type": "code",
   "execution_count": 6,
   "metadata": {},
   "outputs": [
    {
     "name": "stdout",
     "output_type": "stream",
     "text": [
      "Naive Bayes logarítmico\n",
      "m=1:  74.76635514018692\n",
      "m=10:  73.13084112149532\n",
      "m=100:  46.96261682242991\n",
      "m=1000:  24.065420560747665\n"
     ]
    }
   ],
   "source": [
    "from sklearn.model_selection import train_test_split\n",
    "from naive_bayes import init, preprocesser, test_instances, split_into_train_test\n",
    "from sklearn.preprocessing import KBinsDiscretizer\n",
    "from sklearn.preprocessing import OneHotEncoder\n",
    "\n",
    "dataset, features, continuous_features, target, possible_features_mrs2, possible_features_mrs3 = init()\n",
    "\n",
    "kbins = KBinsDiscretizer(n_bins=3, encode='ordinal', strategy='uniform')\n",
    "dataset[continuous_features] = kbins.fit_transform(dataset[continuous_features])\n",
    "\n",
    "discrete_features = ['trt','race','gender']\n",
    "\n",
    "X = dataset.drop(target, axis=1)\n",
    "y = dataset[target]\n",
    "X_train, X_test, y_train, y_test = train_test_split(X, y, test_size=0.2, random_state=0)\n",
    "\n",
    "ohe = OneHotEncoder(sparse_output=False)\n",
    "\n",
    "for feat in discrete_features:\n",
    "    ohe.fit(dataset[feat].to_numpy().reshape(-1, 1))\n",
    "    \n",
    "    # Transform the training and test data using the fitted OneHotEncoder\n",
    "    # Converts the categorical feature in X_train and X_test to one-hot encoded format\n",
    "    new_train = ohe.transform(X_train[feat].to_numpy().reshape(-1,1))\n",
    "    new_test = ohe.transform(X_test[feat].to_numpy().reshape(-1,1))\n",
    "    \n",
    "    # Create column names for the new one-hot encoded features\n",
    "    column_names = [f\"{feat}_{cat}\" for cat in ohe.categories_[0]]\n",
    "    \n",
    "    for i, col_name in enumerate(column_names):\n",
    "        # Add the new one-hot encoded columns to the X_train and X_test DataFrame\n",
    "        X_train[col_name] = new_train[:, i]\n",
    "        X_test[col_name] = new_test[:, i]\n",
    "    \n",
    "    X_train.drop(feat, axis=1)\n",
    "    X_test.drop(feat, axis=1)\n",
    "\n",
    "train_ds = X_train.join(y_train)\n",
    "test_ds = X_test.join(y_test)\n",
    "\n",
    "print('Naive Bayes logarítmico')\n",
    "print('m=1: ',test_instances(train_ds,test_ds,1,True))\n",
    "print('m=10: ',test_instances(train_ds,test_ds,10,True))\n",
    "print('m=100: ',test_instances(train_ds,test_ds,100,True))\n",
    "print('m=1000: ',test_instances(train_ds,test_ds,1000,True))\n"
   ]
  }
 ],
 "metadata": {
  "kernelspec": {
   "display_name": "Python 3",
   "language": "python",
   "name": "python3"
  },
  "language_info": {
   "codemirror_mode": {
    "name": "ipython",
    "version": 3
   },
   "file_extension": ".py",
   "mimetype": "text/x-python",
   "name": "python",
   "nbconvert_exporter": "python",
   "pygments_lexer": "ipython3",
   "version": "3.10.12"
  }
 },
 "nbformat": 4,
 "nbformat_minor": 2
}
