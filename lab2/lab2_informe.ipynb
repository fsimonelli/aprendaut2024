{
 "cells": [
  {
   "cell_type": "code",
   "execution_count": 1,
   "metadata": {},
   "outputs": [
    {
     "name": "stdout",
     "output_type": "stream",
     "text": [
      "Naive Bayes común\n",
      "m=1:  80.37383177570094\n",
      "m=10:  80.37383177570094\n",
      "m=100:  63.55140186915887\n",
      "m=1000:  24.065420560747665\n",
      "Naive Bayes logarítmico\n",
      "m=1:  80.37383177570094\n",
      "m=10:  80.37383177570094\n",
      "m=100:  63.55140186915887\n",
      "m=1000:  24.065420560747665\n"
     ]
    }
   ],
   "source": [
    "from naive_bayes import init, preprocesser, test_instances, split_into_train_test\n",
    "\n",
    "dataset, features, continuous_features, target, possible_features_mrs2, possible_features_mrs3 = init()\n",
    "\n",
    "dataset = preprocesser(dataset, target, continuous_features)\n",
    "\n",
    "train_ds, test_ds = split_into_train_test(dataset,0.8)\n",
    "\n",
    "print('Naive Bayes común')\n",
    "print('m=1: ',test_instances(train_ds,test_ds,1,False))\n",
    "print('m=10: ',test_instances(train_ds,test_ds,10,False))\n",
    "print('m=100: ',test_instances(train_ds,test_ds,100,False))\n",
    "print('m=1000: ',test_instances(train_ds,test_ds,1000,False))\n",
    "\n",
    "print('Naive Bayes logarítmico')\n",
    "print('m=1: ',test_instances(train_ds,test_ds,1,True))\n",
    "print('m=10: ',test_instances(train_ds,test_ds,10,True))\n",
    "print('m=100: ',test_instances(train_ds,test_ds,100,True))\n",
    "print('m=1000: ',test_instances(train_ds,test_ds,1000,True))\n"
   ]
  }
 ],
 "metadata": {
  "kernelspec": {
   "display_name": "Python 3",
   "language": "python",
   "name": "python3"
  },
  "language_info": {
   "codemirror_mode": {
    "name": "ipython",
    "version": 3
   },
   "file_extension": ".py",
   "mimetype": "text/x-python",
   "name": "python",
   "nbconvert_exporter": "python",
   "pygments_lexer": "ipython3",
   "version": "3.10.12"
  }
 },
 "nbformat": 4,
 "nbformat_minor": 2
}
