{
 "cells": [
  {
   "cell_type": "markdown",
   "metadata": {},
   "source": [
    "# Laboratorio 2 - Informe\n",
    "\n",
    "### Grupo 4:\n",
    "     - S. Calvo C.I 5.711.417-7     \n",
    "     - X. Iribarnegaray C.I 5.253.705-9\n",
    "     - J. Simonelli C.I 5.405.358-4"
   ]
  },
  {
   "cell_type": "markdown",
   "metadata": {},
   "source": [
    "## 1. Objetivos\n",
    "El objetivo de este laboratorio es:\n",
    "- Implementar el algoritmo Naive Bayes\n",
    "- Aplicar herramientas de metodología\n",
    "- Analizar los resultados obtenidos."
   ]
  },
  {
   "cell_type": "markdown",
   "metadata": {},
   "source": [
    "## 2. Diseño\n",
    "### 2.1 Algoritmo"
   ]
  },
  {
   "cell_type": "markdown",
   "metadata": {},
   "source": [
    "### Explicar Naive Bayes logaritmico, y presentar el otro analogo ###"
   ]
  },
  {
   "cell_type": "code",
   "execution_count": 1,
   "metadata": {},
   "outputs": [],
   "source": [
    "import numpy as np\n",
    "from naive_bayes import init\n",
    "\n",
    "dataset, features, continuous_features, target = init()\n",
    "\n",
    "def naive_bayes(dataset, target, features, instance, m):\n",
    "    dataset_size = dataset.shape[0]\n",
    "    prob_1 = dataset[target].value_counts()[1]/dataset_size\n",
    "    prob_0 = dataset[target].value_counts()[0]/dataset_size\n",
    "    \n",
    "    sum_1 = np.log(prob_1)\n",
    "    sum_0 = np.log(prob_0)\n",
    "    \n",
    "    for feature in features:\n",
    "        examples = dataset.loc[dataset[feature] == instance[feature]][target].value_counts()\n",
    "        \n",
    "        # if no instances with a specific target value is found, the get method will return 0\n",
    "        count_1 = examples.get(1, default=0)\n",
    "        count_0 = examples.get(0, default=0)\n",
    "        \n",
    "        feature_range = len(dataset[feature].value_counts())\n",
    "        \n",
    "        numerator_1 = count_1 + (m / feature_range)\n",
    "        numerator_0 = count_0 + (m / feature_range)\n",
    "\n",
    "        # sum of sequence\n",
    "        sum_1 += np.log( numerator_1 / (dataset[target].value_counts()[1] + m) )\n",
    "        sum_0 += np.log( numerator_0 / (dataset[target].value_counts()[0] + m) )\n",
    "        \n",
    "    # argmax\n",
    "    if ( sum_1 > sum_0):\n",
    "        return 1\n",
    "    else:\n",
    "        return 0"
   ]
  },
  {
   "cell_type": "markdown",
   "metadata": {},
   "source": [
    "\n",
    "### 2.3 Evaluación"
   ]
  },
  {
   "cell_type": "code",
   "execution_count": 2,
   "metadata": {},
   "outputs": [],
   "source": [
    "from sklearn.metrics import accuracy_score, f1_score, precision_score, recall_score\n",
    "\n",
    "def test_instances(X_train, y_train, X_test, y_test, features, m):\n",
    "    y_pred = []\n",
    "    train_ds = X_train.copy()\n",
    "    train_ds[target] = y_train\n",
    "    for i in range(0, X_test.shape[0]):\n",
    "        instance = X_test.iloc[i]\n",
    "        y_pred.append(naive_bayes(train_ds, target, features, instance, m))\n",
    "        \n",
    "    accuracy = accuracy_score(y_test, y_pred)\n",
    "    precision = precision_score(y_test, y_pred,zero_division=1)\n",
    "    recall = recall_score(y_test, y_pred,zero_division=1)\n",
    "    f1 = f1_score(y_test, y_pred,zero_division=1)\n",
    "    \n",
    "    return accuracy*100, precision*100, recall*100, f1*100"
   ]
  },
  {
   "cell_type": "markdown",
   "metadata": {},
   "source": [
    "## 3. Experimentación"
   ]
  },
  {
   "cell_type": "code",
   "execution_count": null,
   "metadata": {},
   "outputs": [],
   "source": [
    "import pandas as pd\n",
    "from sklearn.model_selection import train_test_split\n",
    "from sklearn.preprocessing import KBinsDiscretizer\n",
    "\n",
    "kbins = KBinsDiscretizer(n_bins=50, encode='ordinal', strategy='kmeans')\n",
    "\n",
    "# Discretize continuous features\n",
    "dataset[continuous_features] = kbins.fit_transform(dataset[continuous_features])\n",
    "\n",
    "# Prepare the feature matrix and target\n",
    "X = dataset.drop([target, 'pidnum'], axis=1)\n",
    "y = dataset[target]\n",
    "\n",
    "# Split dataset into training and test sets\n",
    "X_train, X_test, y_train, y_test = train_test_split(X, y, test_size=0.2, random_state=0)\n",
    "\n",
    "m_values = [1, 10, 100, 1000]\n",
    "\n",
    "results = pd.DataFrame(columns=['m', 'Accuracy', 'Precision', 'Recall', 'F1'])\n",
    "\n",
    "for i in range(0, len(m_values)):\n",
    "    m = m_values[i]\n",
    "    accuracy, precision, recall, f1 = test_instances(X_train, y_train, X_test, y_test, features, m)\n",
    "    \n",
    "    results.loc[i] = {'m': m, 'Accuracy': accuracy, 'Precision': precision, 'Recall': recall, 'F1': f1}\n",
    "\n",
    "print(results)\n"
   ]
  },
  {
   "cell_type": "markdown",
   "metadata": {},
   "source": [
    "Explicar por qué elegimos los parametros que pusimos en el kbins"
   ]
  },
  {
   "cell_type": "markdown",
   "metadata": {},
   "source": [
    "#### KBins and Feature Selection preprocessing ####"
   ]
  },
  {
   "cell_type": "code",
   "execution_count": null,
   "metadata": {},
   "outputs": [],
   "source": [
    "from sklearn.model_selection import train_test_split\n",
    "from sklearn.preprocessing import KBinsDiscretizer\n",
    "from naive_bayes import test_instances, init\n",
    "from sklearn.feature_selection import SelectKBest, chi2\n",
    "\n",
    "dataset, features, continuous_features, target = init()\n",
    "\n",
    "kbins = KBinsDiscretizer(n_bins=2, encode='ordinal', strategy='kmeans')\n",
    "dataset[continuous_features] = kbins.fit_transform(dataset[continuous_features])\n",
    "\n",
    "X = dataset.drop(target, axis=1)\n",
    "y = dataset[target]\n",
    "\n",
    "X_train, X_test, y_train, y_test = train_test_split(X, y, test_size=0.2)\n",
    "\n",
    "''' selector = SelectKBest(chi2, k=2)\n",
    "X_train_selected = selector.fit_transform(X_train, y_train)\n",
    "X_test_selected = selector.transform(X_test) '''\n",
    "\n",
    "\n",
    "print('Naive Bayes logarítmico')\n",
    "print('m=1: ',test_instances(X_train, y_train, X_test, y_test,1))\n",
    "print('m=10: ',test_instances(X_train, y_train, X_test, y_test,10))\n",
    "print('m=100: ',test_instances(X_train, y_train, X_test, y_test,100))\n",
    "print('m=1000: ',test_instances(X_train, y_train, X_test, y_test,1000))\n"
   ]
  },
  {
   "cell_type": "code",
   "execution_count": null,
   "metadata": {},
   "outputs": [],
   "source": [
    "from naive_bayes import init, test_instances\n",
    "from sklearn.feature_selection import SelectKBest, chi2\n",
    "\n",
    "dataset, features, continuous_features, target = init()\n",
    "\n",
    "kbins = KBinsDiscretizer(n_bins=3, encode='ordinal', strategy='kmeans')\n",
    "dataset[continuous_features] = kbins.fit_transform(dataset[continuous_features])\n",
    "\n",
    "X = dataset.drop(target, axis=1)\n",
    "y = dataset[target]\n",
    "\n",
    "X_train, X_test, y_train, y_test = train_test_split(X, y, test_size=0.2)\n",
    "\n",
    "selector = SelectKBest(chi2, k=2)\n",
    "X_train_selected = selector.fit_transform(X_train, y_train)\n",
    "X_test_selected = selector.transform(X_test)\n",
    "\n",
    "\n",
    "\n",
    "new_features = \n",
    "\n"
   ]
  },
  {
   "cell_type": "code",
   "execution_count": null,
   "metadata": {},
   "outputs": [],
   "source": [
    "## Analyze continuous features value distribution\n",
    "dataset[continuous_features].hist(bins=30, figsize=(12, 8), color='skyblue', edgecolor='black')\n",
    "plt.suptitle('Distribución de Valores de Atributos Continuos')\n",
    "plt.show()"
   ]
  }
 ],
 "metadata": {
  "kernelspec": {
   "display_name": "Python 3",
   "language": "python",
   "name": "python3"
  },
  "language_info": {
   "codemirror_mode": {
    "name": "ipython",
    "version": 3
   },
   "file_extension": ".py",
   "mimetype": "text/x-python",
   "name": "python",
   "nbconvert_exporter": "python",
   "pygments_lexer": "ipython3",
   "version": "3.10.12"
  }
 },
 "nbformat": 4,
 "nbformat_minor": 2
}
