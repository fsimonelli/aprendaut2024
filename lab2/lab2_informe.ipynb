{
 "cells": [
  {
   "cell_type": "markdown",
   "metadata": {},
   "source": [
    "# Laboratorio 2 - Informe\n",
    "\n",
    "### Grupo 4:\n",
    "     - S. Calvo C.I 5.711.417-7     \n",
    "     - X. Iribarnegaray C.I 5.253.705-9\n",
    "     - J. Simonelli C.I 5.405.358-4"
   ]
  },
  {
   "cell_type": "markdown",
   "metadata": {},
   "source": [
    "## 1. Objetivos\n",
    "El objetivo de este laboratorio es:\n",
    "- Implementar el algoritmo Naive Bayes\n",
    "- Aplicar herramientas de metodología\n",
    "- Analizar los resultados obtenidos."
   ]
  },
  {
   "cell_type": "markdown",
   "metadata": {},
   "source": [
    "## 2. Diseño\n",
    "### 2.1 Algoritmo"
   ]
  },
  {
   "cell_type": "code",
   "execution_count": null,
   "metadata": {},
   "outputs": [],
   "source": []
  },
  {
   "cell_type": "markdown",
   "metadata": {},
   "source": [
    "El algoritmo Naive-Bayes es un algoritmo que, dado un dataset y una instancia nueva,  "
   ]
  },
  {
   "cell_type": "code",
   "execution_count": null,
   "metadata": {},
   "outputs": [],
   "source": [
    "from naive_bayes import init, preprocesser, test_instances, split_into_train_test\n",
    "\n",
    "dataset, features, continuous_features, target, possible_features_mrs2, possible_features_mrs3 = init()\n",
    "\n",
    "dataset = preprocesser(dataset, target, continuous_features)\n",
    "\n",
    "train_ds, test_ds = split_into_train_test(dataset,0.8)\n",
    "\n",
    "print('Naive Bayes logarítmico')\n",
    "print('m=1: ',test_instances(train_ds,test_ds,1))\n",
    "print('m=10: ',test_instances(train_ds,test_ds,10))\n",
    "print('m=100: ',test_instances(train_ds,test_ds,100))\n",
    "print('m=1000: ',test_instances(train_ds,test_ds,1000))\n"
   ]
  },
  {
   "cell_type": "markdown",
   "metadata": {},
   "source": [
    "#### KBins and Feature Selection preprocessing ####"
   ]
  },
  {
   "cell_type": "code",
   "execution_count": null,
   "metadata": {},
   "outputs": [],
   "source": [
    "from sklearn.model_selection import train_test_split\n",
    "from sklearn.preprocessing import KBinsDiscretizer\n",
    "from naive_bayes import test_instances, init\n",
    "from sklearn.feature_selection import SelectKBest, chi2\n",
    "\n",
    "dataset, features, continuous_features, target = init()\n",
    "\n",
    "kbins = KBinsDiscretizer(n_bins=3, encode='ordinal', strategy='kmeans')\n",
    "dataset[continuous_features] = kbins.fit_transform(dataset[continuous_features])\n",
    "\n",
    "X = dataset.drop(target, axis=1)\n",
    "y = dataset[target]\n",
    "\n",
    "X_train, X_test, y_train, y_test = train_test_split(X, y, test_size=0.2)\n",
    "\n",
    "''' selector = SelectKBest(chi2, k=2)\n",
    "X_train_selected = selector.fit_transform(X_train, y_train)\n",
    "X_test_selected = selector.transform(X_test) '''\n",
    "\n",
    "\n",
    "print('Naive Bayes logarítmico')\n",
    "print('m=1: ',test_instances(X_train, y_train, X_test, y_test,1))\n",
    "print('m=10: ',test_instances(X_train, y_train, X_test, y_test,10))\n",
    "print('m=100: ',test_instances(X_train, y_train, X_test, y_test,100))\n",
    "print('m=1000: ',test_instances(X_train, y_train, X_test, y_test,1000))\n"
   ]
  },
  {
   "cell_type": "code",
   "execution_count": null,
   "metadata": {},
   "outputs": [],
   "source": [
    "from naive_bayes import init, test_instances\n",
    "from sklearn.feature_selection import SelectKBest, chi2\n",
    "\n",
    "dataset, features, continuous_features, target = init()\n",
    "\n",
    "kbins = KBinsDiscretizer(n_bins=3, encode='ordinal', strategy='kmeans')\n",
    "dataset[continuous_features] = kbins.fit_transform(dataset[continuous_features])\n",
    "\n",
    "X = dataset.drop(target, axis=1)\n",
    "y = dataset[target]\n",
    "\n",
    "X_train, X_test, y_train, y_test = train_test_split(X, y, test_size=0.2)\n",
    "\n",
    "selector = SelectKBest(chi2, k=2)\n",
    "X_train_selected = selector.fit_transform(X_train, y_train)\n",
    "X_test_selected = selector.transform(X_test)\n",
    "\n",
    "\n",
    "\n",
    "new_features = \n",
    "\n"
   ]
  },
  {
   "cell_type": "code",
   "execution_count": null,
   "metadata": {},
   "outputs": [],
   "source": [
    "## Analyze continuous features value distribution\n",
    "dataset[continuous_features].hist(bins=30, figsize=(12, 8), color='skyblue', edgecolor='black')\n",
    "plt.suptitle('Distribución de Valores de Atributos Continuos')\n",
    "plt.show()"
   ]
  }
 ],
 "metadata": {
  "kernelspec": {
   "display_name": "Python 3",
   "language": "python",
   "name": "python3"
  },
  "language_info": {
   "codemirror_mode": {
    "name": "ipython",
    "version": 3
   },
   "file_extension": ".py",
   "mimetype": "text/x-python",
   "name": "python",
   "nbconvert_exporter": "python",
   "pygments_lexer": "ipython3",
   "version": "3.10.12"
  }
 },
 "nbformat": 4,
 "nbformat_minor": 2
}
